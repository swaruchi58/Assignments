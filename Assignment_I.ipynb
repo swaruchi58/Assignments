{
  "nbformat": 4,
  "nbformat_minor": 0,
  "metadata": {
    "colab": {
      "provenance": [],
      "include_colab_link": true
    },
    "kernelspec": {
      "name": "python3",
      "display_name": "Python 3"
    },
    "language_info": {
      "name": "python"
    }
  },
  "cells": [
    {
      "cell_type": "markdown",
      "metadata": {
        "id": "view-in-github",
        "colab_type": "text"
      },
      "source": [
        "<a href=\"https://colab.research.google.com/github/swaruchi58/Basics-of-Python/blob/main/Assignment_I.ipynb\" target=\"_parent\"><img src=\"https://colab.research.google.com/assets/colab-badge.svg\" alt=\"Open In Colab\"/></a>"
      ]
    },
    {
      "cell_type": "markdown",
      "source": [
        "#Name : Swaruchi Chitrangad Mhatre\n",
        "\n",
        "#Assignment - I"
      ],
      "metadata": {
        "id": "0v6uGrG0J3wv"
      }
    },
    {
      "cell_type": "markdown",
      "source": [
        "#Problem Statement 1: Write a Python program to multiply a M × N matrix by N × A matrix and create a real matrix product."
      ],
      "metadata": {
        "id": "momRtE2W816k"
      }
    },
    {
      "cell_type": "code",
      "source": [
        "import numpy as np"
      ],
      "metadata": {
        "id": "9kVmzf3N9A_4"
      },
      "execution_count": 1,
      "outputs": []
    },
    {
      "cell_type": "code",
      "source": [
        "a=np.random.random((5,3))\n",
        "print(\"First array:\")\n",
        "print(a)"
      ],
      "metadata": {
        "colab": {
          "base_uri": "https://localhost:8080/"
        },
        "id": "x9CoZKTj94-T",
        "outputId": "7e1e78d5-c488-450c-e81b-d3b6bf8a2a41"
      },
      "execution_count": 2,
      "outputs": [
        {
          "output_type": "stream",
          "name": "stdout",
          "text": [
            "First array:\n",
            "[[0.87538617 0.79833657 0.42391354]\n",
            " [0.66664392 0.67921876 0.87074497]\n",
            " [0.98865438 0.76820712 0.85033557]\n",
            " [0.72849167 0.55263395 0.63667118]\n",
            " [0.45398616 0.36885804 0.65928799]]\n"
          ]
        }
      ]
    },
    {
      "cell_type": "code",
      "source": [
        "b=np.random.random((3,2))\n",
        "print(\"Second array:\")\n",
        "print(b)"
      ],
      "metadata": {
        "colab": {
          "base_uri": "https://localhost:8080/"
        },
        "id": "N8LVqoVs-rMl",
        "outputId": "573bbe79-10fe-4ee3-d982-df0827f08348"
      },
      "execution_count": 3,
      "outputs": [
        {
          "output_type": "stream",
          "name": "stdout",
          "text": [
            "Second array:\n",
            "[[0.80776545 0.75668994]\n",
            " [0.28426088 0.77874951]\n",
            " [0.25566091 0.11615879]]\n"
          ]
        }
      ]
    },
    {
      "cell_type": "code",
      "source": [
        "c=np.dot(a,b)\n",
        "print(\"Dot product of two arrays:\")\n",
        "print(c)"
      ],
      "metadata": {
        "colab": {
          "base_uri": "https://localhost:8080/"
        },
        "id": "YthhEN2L_Ks_",
        "outputId": "7c134a26-825b-432a-9af8-ed68a34cc658"
      },
      "execution_count": 4,
      "outputs": [
        {
          "output_type": "stream",
          "name": "stdout",
          "text": [
            "Dot product of two arrays:\n",
            "[[1.04242067 1.3333414 ]\n",
            " [0.95418269 1.1345287 ]\n",
            " [1.23436963 1.44511968]\n",
            " [0.90831454 1.05556069]\n",
            " [0.64012041 0.70735687]]\n"
          ]
        }
      ]
    },
    {
      "cell_type": "markdown",
      "source": [
        "#Problem Statement 2: Write a NumPy program to check if each element of an array of your choice is composed of digits, lower case letters, and upper case letters only."
      ],
      "metadata": {
        "id": "dpSjCVKtAnFb"
      }
    },
    {
      "cell_type": "code",
      "source": [
        "x=np.array(['Python', 'PHP', 'JS', 'Examples', 'html5', '5'], dtype=np.str)\n",
        "print(\"\\nOriginal Array:\")\n",
        "print(x)"
      ],
      "metadata": {
        "colab": {
          "base_uri": "https://localhost:8080/"
        },
        "id": "CVZCJm7sAYif",
        "outputId": "c535b070-84ed-44e1-d768-a0bc9e3ab91c"
      },
      "execution_count": 5,
      "outputs": [
        {
          "output_type": "stream",
          "name": "stdout",
          "text": [
            "\n",
            "Original Array:\n",
            "['Python' 'PHP' 'JS' 'Examples' 'html5' '5']\n"
          ]
        },
        {
          "output_type": "stream",
          "name": "stderr",
          "text": [
            "<ipython-input-5-a0b59a76bb4c>:1: DeprecationWarning: `np.str` is a deprecated alias for the builtin `str`. To silence this warning, use `str` by itself. Doing this will not modify any behavior and is safe. If you specifically wanted the numpy scalar type, use `np.str_` here.\n",
            "Deprecated in NumPy 1.20; for more details and guidance: https://numpy.org/devdocs/release/1.20.0-notes.html#deprecations\n",
            "  x=np.array(['Python', 'PHP', 'JS', 'Examples', 'html5', '5'], dtype=np.str)\n"
          ]
        }
      ]
    },
    {
      "cell_type": "code",
      "source": [
        "r1 = np.char.isdigit(x)\n",
        "r2 = np.char.islower(x)\n",
        "r3 = np.char.isupper(x)\n",
        "\n",
        "print(\"Digits only =\", r1)\n",
        "print(\"Lower cases only =\", r2)\n",
        "print(\"Upper cases only =\", r3)"
      ],
      "metadata": {
        "id": "ATUqca66BcvY",
        "colab": {
          "base_uri": "https://localhost:8080/"
        },
        "outputId": "3598192a-fdfd-4376-b499-b0a341baaca5"
      },
      "execution_count": 6,
      "outputs": [
        {
          "output_type": "stream",
          "name": "stdout",
          "text": [
            "Digits only = [False False False False False  True]\n",
            "Lower cases only = [False False False False  True False]\n",
            "Upper cases only = [False  True  True False False False]\n"
          ]
        }
      ]
    },
    {
      "cell_type": "markdown",
      "source": [
        "#Problem Statement 3: Write a program thatreads two space-separated positive integers 2 and 3 as input and perform the following tasks:"
      ],
      "metadata": {
        "id": "TzB1rxdtBzKp"
      }
    },
    {
      "cell_type": "markdown",
      "source": [
        "1.Create a list (lst1) starting at one (1) with 16 elements at a step of 2"
      ],
      "metadata": {
        "id": "fz5RNauHLDtu"
      }
    },
    {
      "cell_type": "code",
      "source": [
        "lst1=list(range(1,32,2))\n",
        "lst1"
      ],
      "metadata": {
        "colab": {
          "base_uri": "https://localhost:8080/"
        },
        "id": "W4TJy5I3ByOc",
        "outputId": "00ee8079-2569-4e11-811c-3748bf639c8e"
      },
      "execution_count": 7,
      "outputs": [
        {
          "output_type": "execute_result",
          "data": {
            "text/plain": [
              "[1, 3, 5, 7, 9, 11, 13, 15, 17, 19, 21, 23, 25, 27, 29, 31]"
            ]
          },
          "metadata": {},
          "execution_count": 7
        }
      ]
    },
    {
      "cell_type": "markdown",
      "source": [
        "2.Create a list (lst2) starting at one (1) with 16 elements at a step of 3"
      ],
      "metadata": {
        "id": "3wN60OjmLYPp"
      }
    },
    {
      "cell_type": "code",
      "source": [
        "lst2=list(range(1,47,3))\n",
        "lst2"
      ],
      "metadata": {
        "colab": {
          "base_uri": "https://localhost:8080/"
        },
        "id": "KBjfvnDYDIQk",
        "outputId": "587fea47-aa05-4ebc-f948-b249911a7f9f"
      },
      "execution_count": 8,
      "outputs": [
        {
          "output_type": "execute_result",
          "data": {
            "text/plain": [
              "[1, 4, 7, 10, 13, 16, 19, 22, 25, 28, 31, 34, 37, 40, 43, 46]"
            ]
          },
          "metadata": {},
          "execution_count": 8
        }
      ]
    },
    {
      "cell_type": "markdown",
      "source": [
        "3.Create two NumPy arrays np1 and np2 using lst1 and lst2 respectively"
      ],
      "metadata": {
        "id": "Cu5R-1flMVeJ"
      }
    },
    {
      "cell_type": "code",
      "source": [
        "np1=np.array(lst1)\n",
        "np1"
      ],
      "metadata": {
        "colab": {
          "base_uri": "https://localhost:8080/"
        },
        "id": "qOG1ZNjEDjsv",
        "outputId": "9db4e61e-70ca-403a-af49-a78c0fcf4408"
      },
      "execution_count": 9,
      "outputs": [
        {
          "output_type": "execute_result",
          "data": {
            "text/plain": [
              "array([ 1,  3,  5,  7,  9, 11, 13, 15, 17, 19, 21, 23, 25, 27, 29, 31])"
            ]
          },
          "metadata": {},
          "execution_count": 9
        }
      ]
    },
    {
      "cell_type": "code",
      "source": [
        "np2=np.array(lst2)\n",
        "np2"
      ],
      "metadata": {
        "colab": {
          "base_uri": "https://localhost:8080/"
        },
        "id": "ZXMBjm65EDnY",
        "outputId": "5da3faae-95a0-4059-aa2e-97b3a693e253"
      },
      "execution_count": 10,
      "outputs": [
        {
          "output_type": "execute_result",
          "data": {
            "text/plain": [
              "array([ 1,  4,  7, 10, 13, 16, 19, 22, 25, 28, 31, 34, 37, 40, 43, 46])"
            ]
          },
          "metadata": {},
          "execution_count": 10
        }
      ]
    },
    {
      "cell_type": "markdown",
      "source": [
        "4.Reshape both the NumPy arrays to (4,4)"
      ],
      "metadata": {
        "id": "vpb00cePMk1R"
      }
    },
    {
      "cell_type": "code",
      "source": [
        "X=np1.reshape(4,4)\n",
        "X"
      ],
      "metadata": {
        "colab": {
          "base_uri": "https://localhost:8080/"
        },
        "id": "_g0y2i7WEO4h",
        "outputId": "58e472f8-3173-4f4f-9776-2cee058b7dc3"
      },
      "execution_count": 11,
      "outputs": [
        {
          "output_type": "execute_result",
          "data": {
            "text/plain": [
              "array([[ 1,  3,  5,  7],\n",
              "       [ 9, 11, 13, 15],\n",
              "       [17, 19, 21, 23],\n",
              "       [25, 27, 29, 31]])"
            ]
          },
          "metadata": {},
          "execution_count": 11
        }
      ]
    },
    {
      "cell_type": "code",
      "source": [
        "Y=np2.reshape(4,4)\n",
        "Y"
      ],
      "metadata": {
        "colab": {
          "base_uri": "https://localhost:8080/"
        },
        "id": "7lp-nj9oFdpI",
        "outputId": "9d770347-4061-4564-c1fb-f5a6b041357e"
      },
      "execution_count": 12,
      "outputs": [
        {
          "output_type": "execute_result",
          "data": {
            "text/plain": [
              "array([[ 1,  4,  7, 10],\n",
              "       [13, 16, 19, 22],\n",
              "       [25, 28, 31, 34],\n",
              "       [37, 40, 43, 46]])"
            ]
          },
          "metadata": {},
          "execution_count": 12
        }
      ]
    },
    {
      "cell_type": "markdown",
      "source": [
        "5.Create a new np array (np3) with values obtained by subtracting both the arrays (np1 -np2)"
      ],
      "metadata": {
        "id": "eItri0m0M6MQ"
      }
    },
    {
      "cell_type": "code",
      "source": [
        "np3=(np1-np2)\n",
        "np3"
      ],
      "metadata": {
        "colab": {
          "base_uri": "https://localhost:8080/"
        },
        "id": "7pme-cqKF2oh",
        "outputId": "a23cf491-5aea-4496-8032-881706ce4c87"
      },
      "execution_count": 13,
      "outputs": [
        {
          "output_type": "execute_result",
          "data": {
            "text/plain": [
              "array([  0,  -1,  -2,  -3,  -4,  -5,  -6,  -7,  -8,  -9, -10, -11, -12,\n",
              "       -13, -14, -15])"
            ]
          },
          "metadata": {},
          "execution_count": 13
        }
      ]
    },
    {
      "cell_type": "markdown",
      "source": [
        "6.Print all the elements of np3 in a single dimension list like the format as shown below:a. [n0 n1 n2 n3 n4 n5 n6 n7 n8]"
      ],
      "metadata": {
        "id": "IM_xP37ENDd9"
      }
    },
    {
      "cell_type": "code",
      "source": [
        "print(np3)"
      ],
      "metadata": {
        "colab": {
          "base_uri": "https://localhost:8080/"
        },
        "id": "B0mszJmuGrqW",
        "outputId": "691a1e4e-0e17-4eba-b1cb-46a3b4fbceec"
      },
      "execution_count": 14,
      "outputs": [
        {
          "output_type": "stream",
          "name": "stdout",
          "text": [
            "[  0  -1  -2  -3  -4  -5  -6  -7  -8  -9 -10 -11 -12 -13 -14 -15]\n"
          ]
        }
      ]
    },
    {
      "cell_type": "markdown",
      "source": [
        "#Problem Statement 4: Write a Python program that takes two integer-NumPy arrays, P and Q of shape [3∗3] and performt he following task:"
      ],
      "metadata": {
        "id": "lmY1IKqdHQbR"
      }
    },
    {
      "cell_type": "markdown",
      "source": [
        "Print the element-wise difference of the matrix 푃and푄(푃−푄)."
      ],
      "metadata": {
        "id": "LAq3ODYBNbjA"
      }
    },
    {
      "cell_type": "code",
      "source": [
        "P=np.array([23,56,87,3,6,96,4,6,78])\n",
        "Q=np.array([12,34,54,7,2,54,6,2,78])"
      ],
      "metadata": {
        "id": "MNEsKaFMHero"
      },
      "execution_count": 15,
      "outputs": []
    },
    {
      "cell_type": "code",
      "source": [
        "P-Q"
      ],
      "metadata": {
        "colab": {
          "base_uri": "https://localhost:8080/"
        },
        "id": "Zi62bOp-ME_P",
        "outputId": "936603d0-d725-4fcd-e737-5d08859fe1f9"
      },
      "execution_count": 16,
      "outputs": [
        {
          "output_type": "execute_result",
          "data": {
            "text/plain": [
              "array([11, 22, 33, -4,  4, 42, -2,  4,  0])"
            ]
          },
          "metadata": {},
          "execution_count": 16
        }
      ]
    },
    {
      "cell_type": "code",
      "source": [
        "z=(P-Q).reshape(3,3)\n",
        "z"
      ],
      "metadata": {
        "colab": {
          "base_uri": "https://localhost:8080/"
        },
        "id": "y4iCf6AAMMbQ",
        "outputId": "5e9fcd25-0077-4576-ed16-0a8b185c8deb"
      },
      "execution_count": 17,
      "outputs": [
        {
          "output_type": "execute_result",
          "data": {
            "text/plain": [
              "array([[11, 22, 33],\n",
              "       [-4,  4, 42],\n",
              "       [-2,  4,  0]])"
            ]
          },
          "metadata": {},
          "execution_count": 17
        }
      ]
    },
    {
      "cell_type": "markdown",
      "source": [
        "**OR**"
      ],
      "metadata": {
        "id": "OHg0HCPaM5Vx"
      }
    },
    {
      "cell_type": "code",
      "source": [
        "p=P.reshape(3,3)\n",
        "p"
      ],
      "metadata": {
        "colab": {
          "base_uri": "https://localhost:8080/"
        },
        "id": "TstC5RgeMiiW",
        "outputId": "5521cb82-5009-4a86-b78d-a596035838b1"
      },
      "execution_count": 18,
      "outputs": [
        {
          "output_type": "execute_result",
          "data": {
            "text/plain": [
              "array([[23, 56, 87],\n",
              "       [ 3,  6, 96],\n",
              "       [ 4,  6, 78]])"
            ]
          },
          "metadata": {},
          "execution_count": 18
        }
      ]
    },
    {
      "cell_type": "code",
      "source": [
        "q=Q.reshape(3,3)\n",
        "q"
      ],
      "metadata": {
        "colab": {
          "base_uri": "https://localhost:8080/"
        },
        "id": "tlo7o4PtMwx4",
        "outputId": "f781e440-0c0a-4cc8-d753-bdeb0b13577f"
      },
      "execution_count": 19,
      "outputs": [
        {
          "output_type": "execute_result",
          "data": {
            "text/plain": [
              "array([[12, 34, 54],\n",
              "       [ 7,  2, 54],\n",
              "       [ 6,  2, 78]])"
            ]
          },
          "metadata": {},
          "execution_count": 19
        }
      ]
    },
    {
      "cell_type": "code",
      "source": [
        "z=p-q\n",
        "z"
      ],
      "metadata": {
        "colab": {
          "base_uri": "https://localhost:8080/"
        },
        "id": "7Dt1D5juM_E2",
        "outputId": "a83eb017-b337-4fb9-b438-9a43f8005a45"
      },
      "execution_count": 20,
      "outputs": [
        {
          "output_type": "execute_result",
          "data": {
            "text/plain": [
              "array([[11, 22, 33],\n",
              "       [-4,  4, 42],\n",
              "       [-2,  4,  0]])"
            ]
          },
          "metadata": {},
          "execution_count": 20
        }
      ]
    }
  ]
}